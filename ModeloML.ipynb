{
 "cells": [
  {
   "attachments": {},
   "cell_type": "markdown",
   "metadata": {},
   "source": [
    "Utilizaremos la libreria ***Python Surprise***, la cual permite crear sistemas de recomendación basados en filtrado colaborativo. Básicamente utilizaremos las calificaciones que han dado antes los usuarios para elaborar una predicción al respecto."
   ]
  },
  {
   "attachments": {},
   "cell_type": "markdown",
   "metadata": {},
   "source": [
    "El paquete surprise no recibe directamente un objeto *DataFrame*. Tiene para parsear y leer un conjunto de datos a través de dos nuevos objetos: \n",
    "\n",
    "- Reader: Debemos especificar el valor mínimo y el valor máximo de las calificaciones ***'score'***\n",
    "- Dataset: Nos permite leer los datos desde distintas fuentes"
   ]
  },
  {
   "cell_type": "code",
   "execution_count": 1,
   "metadata": {},
   "outputs": [],
   "source": [
    "import pandas as pd\n",
    "import numpy as np\n",
    "from surprise import Dataset, Reader, SVD\n",
    "from surprise.model_selection import GridSearchCV\n",
    "from surprise.model_selection import train_test_split\n",
    "from surprise import accuracy\n",
    "import matplotlib.pyplot as plt\n",
    "import seaborn as sns\n",
    "sns.set()"
   ]
  },
  {
   "cell_type": "code",
   "execution_count": 2,
   "metadata": {},
   "outputs": [
    {
     "data": {
      "text/plain": [
       "(11024289, 5)"
      ]
     },
     "execution_count": 2,
     "metadata": {},
     "output_type": "execute_result"
    }
   ],
   "source": [
    "df_raitings = pd.read_csv(\"RatingsConsolidado.csv\")\n",
    "df_raitings.shape"
   ]
  },
  {
   "cell_type": "code",
   "execution_count": 3,
   "metadata": {},
   "outputs": [
    {
     "data": {
      "text/plain": [
       "(400000, 5)"
      ]
     },
     "execution_count": 3,
     "metadata": {},
     "output_type": "execute_result"
    }
   ],
   "source": [
    "nueva_muestra = df_raitings.sample(n=400000)\n",
    "nueva_muestra.shape"
   ]
  },
  {
   "attachments": {},
   "cell_type": "markdown",
   "metadata": {},
   "source": [
    "**CREACIÓN Y ENTRENAMIENTO**\n",
    "*******************************************************************************"
   ]
  },
  {
   "cell_type": "code",
   "execution_count": 4,
   "metadata": {},
   "outputs": [],
   "source": [
    "# Creamos los argumentos del reader 'min' y 'max' de la variable 'score'\n",
    "reader = Reader(rating_scale=(nueva_muestra['score'].min(), nueva_muestra['score'].max()))"
   ]
  },
  {
   "attachments": {},
   "cell_type": "markdown",
   "metadata": {},
   "source": [
    "se crea una instancia de dataset usando la función ***\"load_from_df\"*** y le pasamos las variables del **df** y el objeto reader, que es el que se va a usar para poder operar sobre los puntajes"
   ]
  },
  {
   "cell_type": "code",
   "execution_count": 5,
   "metadata": {},
   "outputs": [],
   "source": [
    "dataset = Dataset.load_from_df(nueva_muestra[['userId', 'title', 'score']], reader)"
   ]
  },
  {
   "cell_type": "code",
   "execution_count": 6,
   "metadata": {},
   "outputs": [
    {
     "data": {
      "text/plain": [
       "<surprise.dataset.DatasetAutoFolds at 0x1dd967cbe50>"
      ]
     },
     "execution_count": 6,
     "metadata": {},
     "output_type": "execute_result"
    }
   ],
   "source": [
    "dataset"
   ]
  },
  {
   "attachments": {},
   "cell_type": "markdown",
   "metadata": {},
   "source": [
    "Podemos ver que ***dataset*** es una instancia de la clase **dataset** de la libreria ***surprise***<br> *surprise.dataset.DatasetAutoFolds*"
   ]
  },
  {
   "cell_type": "code",
   "execution_count": 7,
   "metadata": {},
   "outputs": [],
   "source": [
    "#Separamos los parametros para 'train' y 'test'\n",
    "trainset, testset = train_test_split(dataset, test_size=0.2)"
   ]
  },
  {
   "cell_type": "code",
   "execution_count": 8,
   "metadata": {},
   "outputs": [],
   "source": [
    "# Usaremos un modelo de Singular Value De composition\n",
    "param_grid = {'n_factors': 5, 'n_epochs': 10, 'lr_all': 0.005, 'reg_all': 0.02}\n",
    "model = SVD()"
   ]
  },
  {
   "cell_type": "code",
   "execution_count": 9,
   "metadata": {},
   "outputs": [
    {
     "data": {
      "text/plain": [
       "<surprise.prediction_algorithms.matrix_factorization.SVD at 0x1dd967cb940>"
      ]
     },
     "execution_count": 9,
     "metadata": {},
     "output_type": "execute_result"
    }
   ],
   "source": [
    "#Se entrena el modelo\n",
    "model.fit(trainset)"
   ]
  },
  {
   "cell_type": "code",
   "execution_count": 10,
   "metadata": {},
   "outputs": [],
   "source": [
    "# Predecimos\n",
    "predictions = model.test(testset)"
   ]
  },
  {
   "attachments": {},
   "cell_type": "markdown",
   "metadata": {},
   "source": [
    "**EVALUACIÓN DEL MODELO**\n",
    "***************************************************************************************"
   ]
  },
  {
   "attachments": {},
   "cell_type": "markdown",
   "metadata": {},
   "source": [
    "Estos valores de evaluación del modelo corresponden a dos métricas comunes utilizadas para evaluar el rendimiento de un modelo de regresión en Machine Learning: el RMSE (Root Mean Squared Error) y el MAE (Mean Absolute Error)."
   ]
  },
  {
   "cell_type": "code",
   "execution_count": 11,
   "metadata": {},
   "outputs": [
    {
     "name": "stdout",
     "output_type": "stream",
     "text": [
      "RMSE: 1.0281\n",
      "MAE:  0.8121\n"
     ]
    },
    {
     "data": {
      "text/plain": [
       "0.8121429632565746"
      ]
     },
     "execution_count": 11,
     "metadata": {},
     "output_type": "execute_result"
    }
   ],
   "source": [
    "accuracy.rmse(predictions)\n",
    "accuracy.mae(predictions)"
   ]
  },
  {
   "attachments": {},
   "cell_type": "markdown",
   "metadata": {},
   "source": [
    "El RMSE mide la raíz cuadrada de la media de los errores cuadráticos entre las predicciones del modelo y los valores reales. En este caso, el valor de RMSE es 1.0015, lo que indica que, en promedio, las predicciones del modelo tienen un error de aproximadamente 1 unidad en la escala de la variable objetivo.\n",
    "\n",
    "Por otro lado, el MAE mide la media de los errores absolutos entre las predicciones del modelo y los valores reales. En este caso, el valor de MAE es 0.7762, lo que indica que, en promedio, las predicciones del modelo tienen un error absoluto de aproximadamente 0.78 unidades en la escala de la variable objetivo."
   ]
  },
  {
   "cell_type": "code",
   "execution_count": 12,
   "metadata": {},
   "outputs": [
    {
     "name": "stdout",
     "output_type": "stream",
     "text": [
      "1\n",
      "Evaluating RMSE of algorithm SVD on 3 split(s).\n",
      "\n",
      "                  Fold 1  Fold 2  Fold 3  Mean    Std     \n",
      "RMSE (testset)    1.0244  1.0247  1.0259  1.0250  0.0007  \n",
      "Fit time          2.12    1.81    1.81    1.91    0.15    \n",
      "Test time         1.06    0.82    0.84    0.90    0.11    \n",
      "2\n",
      "Evaluating RMSE of algorithm SVD on 3 split(s).\n",
      "\n",
      "                  Fold 1  Fold 2  Fold 3  Mean    Std     \n",
      "RMSE (testset)    1.0297  1.0246  1.0215  1.0253  0.0034  \n",
      "Fit time          1.85    1.83    1.85    1.84    0.01    \n",
      "Test time         0.85    0.84    1.41    1.03    0.27    \n",
      "4\n",
      "Evaluating RMSE of algorithm SVD on 3 split(s).\n",
      "\n",
      "                  Fold 1  Fold 2  Fold 3  Mean    Std     \n",
      "RMSE (testset)    1.0255  1.0224  1.0269  1.0249  0.0019  \n",
      "Fit time          1.95    1.91    1.92    1.92    0.02    \n",
      "Test time         0.85    0.88    0.87    0.87    0.01    \n",
      "8\n",
      "Evaluating RMSE of algorithm SVD on 3 split(s).\n",
      "\n",
      "                  Fold 1  Fold 2  Fold 3  Mean    Std     \n",
      "RMSE (testset)    1.0278  1.0253  1.0251  1.0261  0.0012  \n",
      "Fit time          2.01    1.99    2.04    2.01    0.02    \n",
      "Test time         0.85    0.85    1.08    0.92    0.11    \n",
      "16\n",
      "Evaluating RMSE of algorithm SVD on 3 split(s).\n",
      "\n",
      "                  Fold 1  Fold 2  Fold 3  Mean    Std     \n",
      "RMSE (testset)    1.0243  1.0262  1.0275  1.0260  0.0013  \n",
      "Fit time          2.50    2.22    2.21    2.31    0.13    \n",
      "Test time         0.90    0.85    0.84    0.86    0.03    \n",
      "32\n",
      "Evaluating RMSE of algorithm SVD on 3 split(s).\n",
      "\n",
      "                  Fold 1  Fold 2  Fold 3  Mean    Std     \n",
      "RMSE (testset)    1.0251  1.0250  1.0297  1.0266  0.0022  \n",
      "Fit time          2.44    2.39    2.39    2.41    0.03    \n",
      "Test time         0.87    0.86    0.85    0.86    0.01    \n",
      "64\n",
      "Evaluating RMSE of algorithm SVD on 3 split(s).\n",
      "\n",
      "                  Fold 1  Fold 2  Fold 3  Mean    Std     \n",
      "RMSE (testset)    1.0282  1.0290  1.0283  1.0285  0.0003  \n",
      "Fit time          2.95    3.43    2.94    3.11    0.23    \n",
      "Test time         0.87    0.88    1.10    0.95    0.10    \n",
      "128\n",
      "Evaluating RMSE of algorithm SVD on 3 split(s).\n",
      "\n",
      "                  Fold 1  Fold 2  Fold 3  Mean    Std     \n",
      "RMSE (testset)    1.0326  1.0299  1.0309  1.0311  0.0011  \n",
      "Fit time          3.89    3.90    3.94    3.91    0.02    \n",
      "Test time         0.95    0.89    0.87    0.90    0.04    \n",
      "256\n",
      "Evaluating RMSE of algorithm SVD on 3 split(s).\n",
      "\n",
      "                  Fold 1  Fold 2  Fold 3  Mean    Std     \n",
      "RMSE (testset)    1.0347  1.0372  1.0360  1.0360  0.0010  \n",
      "Fit time          5.65    5.82    5.71    5.73    0.07    \n",
      "Test time         1.28    1.34    0.91    1.18    0.19    \n"
     ]
    }
   ],
   "source": [
    "#Optimización de hiperparametros para lograr el mejor resultado\n",
    "from surprise.model_selection import cross_validate\n",
    "\n",
    "rmse_test_means = []\n",
    "factores = [1,2,4,8,16,32,64,128,256]\n",
    "\n",
    "for factor in factores:\n",
    "    print(factor)\n",
    "    model = SVD(n_factors=factor)\n",
    "    cv = cross_validate(model, dataset, measures=['RMSE'], cv = 3, verbose=True)\n",
    "    rmse_test_means.append(np.mean(cv['test_rmse']))"
   ]
  },
  {
   "attachments": {},
   "cell_type": "markdown",
   "metadata": {},
   "source": [
    "A continuación se generará un segmento donde se probaran distintas combinaciones de hiperparámetros:\n",
    "\n",
    "- **epochs:** Es la cantidad de pasadas sobre el dataset que hará el algoritmo empleando el descenso por el gradiente.\n",
    "- **biased:** Usar parámetros de sesgo o no.\n",
    "- **Ir_all:** Learning rate para todos los parámetros.\n",
    "- **reg_all:** Término de regularización para todos los parámetros (lambda)"
   ]
  },
  {
   "cell_type": "code",
   "execution_count": 13,
   "metadata": {},
   "outputs": [],
   "source": [
    "\n",
    "param_grid = {'n_factors': [5,50,100],'n_epochs': [5, 10,20], 'lr_all': [0.001, 0.002, 0.005],\n",
    "              'reg_all': [0.002, 0.02, 0.2]}\n",
    "gs = GridSearchCV(SVD, param_grid, measures=['rmse'], cv=3, n_jobs = -1)\n",
    "gs.fit(dataset)"
   ]
  },
  {
   "cell_type": "code",
   "execution_count": 14,
   "metadata": {},
   "outputs": [
    {
     "name": "stdout",
     "output_type": "stream",
     "text": [
      "1.0223435624073043\n",
      "{'n_factors': 5, 'n_epochs': 10, 'lr_all': 0.005, 'reg_all': 0.02}\n"
     ]
    }
   ],
   "source": [
    "# Observamos performance del mejor modelo\n",
    "\n",
    "print(gs.best_score['rmse'])\n",
    "print(gs.best_params['rmse'])"
   ]
  },
  {
   "cell_type": "code",
   "execution_count": 15,
   "metadata": {},
   "outputs": [],
   "source": [
    "from surprise import dump\n",
    "import joblib"
   ]
  },
  {
   "cell_type": "code",
   "execution_count": 16,
   "metadata": {},
   "outputs": [
    {
     "data": {
      "text/plain": [
       "['modelo_entrenado.sav']"
      ]
     },
     "execution_count": 16,
     "metadata": {},
     "output_type": "execute_result"
    }
   ],
   "source": [
    "# Cargar el modelo desde el archivo\n",
    "joblib.dump(model, 'modelo_entrenado.sav')\n"
   ]
  },
  {
   "cell_type": "code",
   "execution_count": 17,
   "metadata": {},
   "outputs": [],
   "source": [
    "modelo_cargado = joblib.load('modelo_entrenado.sav')\n",
    "\n",
    "def recomendacion(userId, id):\n",
    "\n",
    "\n",
    "    prediction = model.predict(userId, id)\n",
    "\n",
    "    if prediction.est >= 3.5:\n",
    "        \n",
    "        mensaje = \"Esta selección es recomendada para ti, disfrutala!\"\n",
    "        \n",
    "    else:\n",
    "        \n",
    "        mensaje = \"Definitivamente debes ver otra peli XD\"\n",
    "\n",
    "\n",
    "    return mensaje"
   ]
  },
  {
   "cell_type": "code",
   "execution_count": 18,
   "metadata": {},
   "outputs": [
    {
     "data": {
      "text/plain": [
       "'Esta selección es recomendada para ti, disfrutala!'"
      ]
     },
     "execution_count": 18,
     "metadata": {},
     "output_type": "execute_result"
    }
   ],
   "source": [
    "recomendacion(32300, 'as109')"
   ]
  },
  {
   "cell_type": "code",
   "execution_count": 20,
   "metadata": {},
   "outputs": [
    {
     "data": {
      "text/plain": [
       "'Definitivamente debes ver otra peli XD'"
      ]
     },
     "execution_count": 20,
     "metadata": {},
     "output_type": "execute_result"
    }
   ],
   "source": [
    "recomendacion(231, 'as123')"
   ]
  }
 ],
 "metadata": {
  "kernelspec": {
   "display_name": "base",
   "language": "python",
   "name": "python3"
  },
  "language_info": {
   "codemirror_mode": {
    "name": "ipython",
    "version": 3
   },
   "file_extension": ".py",
   "mimetype": "text/x-python",
   "name": "python",
   "nbconvert_exporter": "python",
   "pygments_lexer": "ipython3",
   "version": "3.9.16"
  },
  "orig_nbformat": 4
 },
 "nbformat": 4,
 "nbformat_minor": 2
}
